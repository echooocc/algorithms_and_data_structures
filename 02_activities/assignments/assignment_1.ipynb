{
 "cells": [
  {
   "cell_type": "markdown",
   "metadata": {},
   "source": [
    "# Coding Problems\n",
    "\n",
    "## Objective\n",
    "\n",
    "This assignment aims to demonstrate how to study a data structures or algorithms question in depth to prepare for an industry coding interview. Leetcode is a popular coding practice site that many use to practice for technical interviews. Like behavioral interviews, it's important to practice and keep your skills sharp.\n",
    "\n",
    "## Group Size\n",
    "\n",
    "Please complete this individually.\n",
    "\n",
    "## Part 1:\n",
    "\n",
    "_*You will be assigned one of three problems based of your first name. Enter your first name, in all lower case, execute the code below, and that will tell you your assigned problem. Include the output as part of your submission (do not clear the output). The problems are based-off problems from Leetcode.*_\n"
   ]
  },
  {
   "cell_type": "code",
   "execution_count": 9,
   "metadata": {},
   "outputs": [
    {
     "name": "stdout",
     "output_type": "stream",
     "text": [
      "2\n"
     ]
    }
   ],
   "source": [
    "import hashlib\n",
    "\n",
    "def hash_to_range(input_string: str) -> int:\n",
    "     hash_object = hashlib.sha256(input_string.encode())\n",
    "     hash_int = int(hash_object.hexdigest(), 16)\n",
    "     return (hash_int % 3) + 1\n",
    "input_string = \"fan\"\n",
    "result = hash_to_range(input_string)\n",
    "print(result)\n"
   ]
  },
  {
   "cell_type": "markdown",
   "metadata": {},
   "source": [
    "<details>\n",
    "  <summary>Question 1</summary>\n",
    "\n",
    "  # Question One: Check Duplicates in Tree\n",
    "\n",
    "  Given the `root` of a binary tree, check whether it is contains a duplicate value. If a duplicate exists, return the duplicate value. If there are multiple duplicates, return the one with the closest distance to the root. If no duplicate exists, return -1.\n",
    "\n",
    "  ## Examples\n",
    "\n",
    "  ### Example 1\n",
    "\n",
    "  ![](./images/q1_ex1.png)\n",
    "\n",
    "  Input: `root = [1, 2, 2, 3, 5, 6, 7]` *What traversal method is this?*\n",
    "\n",
    "  Output: 2\n",
    "\n",
    "  ### Example 2\n",
    "\n",
    "  ![](./images/q1_ex2.png)\n",
    "\n",
    "  Input: `root = [1, 10, 2, 3, 10, 12, 12]`\n",
    "\n",
    "  Output: 10\n",
    "\n",
    "  ### Example 3\n",
    "\n",
    "  ![](./images/q1_ex3.png)\n",
    "\n",
    "  Input: `root = [10, 9, 8, 7]`\n",
    "\n",
    "  Output: -1\n",
    "\n",
    "</details>\n",
    "\n",
    "#### Starter Code for Question 1"
   ]
  },
  {
   "cell_type": "code",
   "execution_count": 10,
   "metadata": {},
   "outputs": [
    {
     "ename": "IndentationError",
     "evalue": "expected an indented block (2850872121.py, line 8)",
     "output_type": "error",
     "traceback": [
      "\u001b[0;36m  Cell \u001b[0;32mIn[10], line 8\u001b[0;36m\u001b[0m\n\u001b[0;31m    # TODO\u001b[0m\n\u001b[0m          ^\u001b[0m\n\u001b[0;31mIndentationError\u001b[0m\u001b[0;31m:\u001b[0m expected an indented block\n"
     ]
    }
   ],
   "source": [
    "# Definition for a binary tree node.\n",
    "# class TreeNode(object):\n",
    "#     def __init__(self, val = 0, left = None, right = None):\n",
    "#         self.val = val\n",
    "#         self.left = left\n",
    "#         self.right = right\n",
    "def is_duplicate(root: TreeNode) -> int:\n",
    "  # TODO"
   ]
  },
  {
   "cell_type": "markdown",
   "metadata": {},
   "source": [
    "<details>\n",
    "  <summary>Question 2</summary>\n",
    "\n",
    "  # Question Two: Path to Leaves\n",
    "\n",
    "  Given the `root` of a binary tree, return all root to leaf paths in any order.\n",
    "\n",
    "  ## Examples\n",
    "\n",
    "  ### Example 1\n",
    "\n",
    "  ![](./images/q1_ex1.png)\n",
    "\n",
    "  Input: `root = [1, 2, 2, 3, 5, 6, 7]` *What traversal method is this?*\n",
    "\n",
    "  Output: [[1, 2, 3], [1, 2, 5], [1, 2, 6], [1, 2, 7]]\n",
    "\n",
    "  ### Example 2\n",
    "\n",
    "  ![](./images/q1_ex3.png)\n",
    "\n",
    "  Input: `root = [10, 9, 7, 8]`\n",
    "\n",
    "  Output: [[10, 7], [10, 9, 8]]\n",
    "\n",
    "</details>\n",
    "\n",
    "#### Starter Code for Question 2"
   ]
  },
  {
   "cell_type": "code",
   "execution_count": 27,
   "metadata": {},
   "outputs": [],
   "source": [
    "# Definition for a binary tree node.\n",
    "from typing import List\n",
    "\n",
    "class TreeNode(object):\n",
    "    def __init__(self, val = 0, left = None, right = None):\n",
    "        self.val = val\n",
    "        self.left = left\n",
    "        self.right = right\n",
    "def bt_path(root: TreeNode) -> List[List[int]]:\n",
    "  def dfs(node, path):\n",
    "    if node:\n",
    "      path.append(node.val)\n",
    "      if not node.left and not node.right:\n",
    "        res.append(path[:])\n",
    "      else:\n",
    "        dfs(node.left, path)\n",
    "        dfs(node.right, path)\n",
    "      path.pop()\n",
    "  res = []\n",
    "  dfs(root, [])\n",
    "  return res"
   ]
  },
  {
   "cell_type": "markdown",
   "metadata": {},
   "source": [
    "<details>\n",
    "  <summary>Question 3</summary>\n",
    "\n",
    "  # Question Three: Missing Number in Range\n",
    " \n",
    "  You are given a list containing `n` integers in the range `[0, n]`. Return a list of numbers that are missing from the range `[0, n]` of the array. If there is no missing number, return -1. Note, all the integers in the list may not be unique.\n",
    "  \n",
    "  ## Examples\n",
    "\n",
    "  ### Example 1\n",
    "\n",
    "  Input: `lst = [0, 2]`\n",
    "\n",
    "  Output: [1]\n",
    "\n",
    "  ### Example 2\n",
    "\n",
    "  Input: `lst = [5, 0, 1]`\n",
    "\n",
    "  Output: [2, 3, 4]\n",
    "\n",
    "  ### Example 3\n",
    "\n",
    "  Input: `lst = [6, 8, 2, 3, 5, 7, 0, 1, 10]`\n",
    "\n",
    "  Output: [4, 9]\n",
    "\n",
    "</details>\n",
    "\n",
    "#### Starter Code for Question 3\n"
   ]
  },
  {
   "cell_type": "code",
   "execution_count": null,
   "metadata": {},
   "outputs": [],
   "source": [
    "def missing_num(nums: List) -> int:\n",
    "  # TODO"
   ]
  },
  {
   "cell_type": "markdown",
   "metadata": {},
   "source": [
    "\n",
    "## Part 2:\n",
    "\n",
    "-   Paraphrase the problem in your own words\n"
   ]
  },
  {
   "cell_type": "markdown",
   "metadata": {},
   "source": [
    "Problem: Given a binary tree, I need to find all possible paths from the root node to the leaf nodes, each path should be represented as a list of node values, this is a DFS."
   ]
  },
  {
   "cell_type": "markdown",
   "metadata": {},
   "source": [
    "- In this .ipynb file, there are examples that illustrate how the code should work (the examples provided above). Create 2 new examples for the question you have been assigned, that demonstrate you understand the problem. For question 1 and 2, you don't need to create the tree demonstration, just the input and output.\n"
   ]
  },
  {
   "cell_type": "code",
   "execution_count": 20,
   "metadata": {},
   "outputs": [],
   "source": [
    "def test_bt_path(root: TreeNode, expected: List[str]):\n",
    "    result = bt_path(root)\n",
    "    if sorted(result) == sorted(expected):\n",
    "        print(f\"Test passed! Expected {expected}\")\n",
    "    else:\n",
    "        print(f\"Test failed! Expected {expected}, but got {result}\")"
   ]
  },
  {
   "cell_type": "code",
   "execution_count": 28,
   "metadata": {},
   "outputs": [
    {
     "name": "stdout",
     "output_type": "stream",
     "text": [
      "Test passed! Expected [[5, 4], [5, 6, 7]]\n",
      "Test passed! Expected [[10, 5, 3], [10, 5, 8], [10, 15, 12]]\n"
     ]
    }
   ],
   "source": [
    "root_example_3 = TreeNode(5)\n",
    "root_example_3.left = TreeNode(4)\n",
    "root_example_3.right = TreeNode(6)\n",
    "root_example_3.right.left = TreeNode(7)\n",
    "    \n",
    "expected_example_3 = [[5,4], [5,6,7]]\n",
    "test_bt_path(root_example_3, expected_example_3)\n",
    "    \n",
    "\n",
    "root_example_4 = TreeNode(10)\n",
    "root_example_4.left = TreeNode(5)\n",
    "root_example_4.right = TreeNode(15)\n",
    "root_example_4.left.left = TreeNode(3)\n",
    "root_example_4.left.right = TreeNode(8)\n",
    "root_example_4.right.left = TreeNode(12)\n",
    "    \n",
    "expected_example_4 = [[10, 5, 3], [10, 5, 8], [10, 15, 12]]\n",
    "    \n",
    "test_bt_path(root_example_4, expected_example_4)"
   ]
  },
  {
   "cell_type": "markdown",
   "metadata": {},
   "source": [
    "\n",
    "-   Code the solution to your assigned problem in Python (code chunk). Try to find the best time and space complexity solution!\n"
   ]
  },
  {
   "cell_type": "code",
   "execution_count": null,
   "metadata": {},
   "outputs": [],
   "source": [
    "def bt_path(root: TreeNode) -> List[List[int]]:\n",
    "  def dfs(node, path):\n",
    "    if node:\n",
    "      path.append(node.val)\n",
    "      if not node.left and not node.right:\n",
    "        res.append(path[:])\n",
    "      else:\n",
    "        dfs(node.left, path)\n",
    "        dfs(node.right, path)\n",
    "      path.pop()\n",
    "  res = []\n",
    "  dfs(root, [])\n",
    "  return res"
   ]
  },
  {
   "cell_type": "markdown",
   "metadata": {},
   "source": [
    "\n",
    "-   Explain why your solution works\n"
   ]
  },
  {
   "cell_type": "markdown",
   "metadata": {},
   "source": [
    "-----------\n",
    "The solution uses a recursive DFS to explore all paths from the root to the leaves. Here’s how it works:\n",
    "- **DFS Helper Function**: dfs(node, path, res) takes:\n",
    "    - node: Current node being processed.\n",
    "    - path: A list storing the current path’s node values as strings.\n",
    "    - res: The result list collecting all complete paths.\n",
    "- **Base Case**: If node is None (empty subtree), return without doing anything.\n",
    "- **Path Building**: Add the current node’s value to path. This tracks the sequence from root to the current node.\n",
    "- **Leaf Check**: If the node has no left or right child (not node.left and not node.right), it’s a leaf. push to res []\n",
    "- **Recursion**: Recursively call dfs on the left and right children to explore all possible paths.\n",
    "- **Backtrack**: path.pop() backtracks by removing the last element from the path list, allowing the algorithm to go back to previous state and explore other paths.\n",
    "-----------"
   ]
  },
  {
   "cell_type": "markdown",
   "metadata": {},
   "source": [
    "\n",
    "-   Explain the problem’s time and space complexity\n"
   ]
  },
  {
   "cell_type": "markdown",
   "metadata": {},
   "source": [
    "-----------\n",
    "Time Complexity: O(N*logN). \n",
    "- DFS Traversal: This solution visits each node exactly once, so the time complexity is (O(N)), where (N) is the number of nodes in the binary tree. \n",
    "- Path Construct: For each path, we append and pop values from the path list, where LogN is the length of the path, and height of the tree (H).\n",
    "- Overall time complexity remains (O(N * H))\n",
    "\n",
    "Space Complexity: O(N + H). \n",
    "- Recursive Stack: The space complexity due to the recursive stack is (O(H)) where (H) is the height of the tree.\n",
    "- Path List: We use a list path to store the current path, which can take up to the length of the longest path, i.e., (O(H)).\n",
    "- Result List: The result list res stores all paths, and in the worst case, it could contain all possible paths from root to leaf nodes, which is (O(N)).\n",
    "- Overall space complexity is (O(N + H)).\n",
    "  \n",
    "-----------"
   ]
  },
  {
   "cell_type": "markdown",
   "metadata": {},
   "source": [
    "\n",
    "  -  Explain the thinking to an alternative solution (no coding required, but a classmate reading this should be able to code it up based off your text)\n"
   ]
  },
  {
   "cell_type": "markdown",
   "metadata": {},
   "source": [
    "-----------\n",
    "To solve this problem iteratively using a stack:\n",
    "\n",
    "1. Initialize Stack: Start with the root node, an empty path list.\n",
    "2. Iterate While Stack is Not Empty:\n",
    "   1. Pop the current node, its path, and whether it's a leaf from the stack.\n",
    "   2. If the current node is a leaf, add the constructed path to the result list.\n",
    "   3. If the current node has a right child, push it onto the stack with the updated path and mark it as not a leaf.\n",
    "   4. If the current node has a left child, push it onto the stack with the updated path and mark it as not a leaf.\n",
    "3. Return Result List: After processing all nodes, return the result list containing all paths.\n",
    "\n",
    "This iterative approach ensures that each node is visited exactly once and constructs the paths efficiently using a stack.\n",
    "\n",
    "-----------"
   ]
  },
  {
   "cell_type": "markdown",
   "metadata": {},
   "source": [
    "## Evaluation Criteria\n",
    "\n",
    "-   Problem is accurately stated\n",
    "\n",
    "-   Two examples are correct and easily understandable\n",
    "\n",
    "-   Correctness, time, and space complexity of the coding solution\n",
    "\n",
    "-   Clarity in explaining why the solution works, its time and space complexity\n",
    "\n",
    "-   Clarity in the proposal to the alternative solution"
   ]
  },
  {
   "cell_type": "markdown",
   "metadata": {},
   "source": [
    "## Submission Information\n",
    "\n",
    "🚨 **Please review our [Assignment Submission Guide](https://github.com/UofT-DSI/onboarding/blob/main/onboarding_documents/submissions.md)** 🚨 for detailed instructions on how to format, branch, and submit your work. Following these guidelines is crucial for your submissions to be evaluated correctly.\n",
    "\n",
    "### Submission Parameters:\n",
    "* Submission Due Date: `HH:MM AM/PM - DD/MM/YYYY`\n",
    "* The branch name for your repo should be: `assignment-1`\n",
    "* What to submit for this assignment:\n",
    "    * This Jupyter Notebook (assignment_1.ipynb) should be populated and should be the only change in your pull request.\n",
    "* What the pull request link should look like for this assignment: `https://github.com/<your_github_username>/algorithms_and_data_structures/pull/<pr_id>`\n",
    "    * Open a private window in your browser. Copy and paste the link to your pull request into the address bar. Make sure you can see your pull request properly. This helps the technical facilitator and learning support staff review your submission easily.\n",
    "\n",
    "Checklist:\n",
    "- [ ] Create a branch called `assignment-1`.\n",
    "- [ ] Ensure that the repository is public.\n",
    "- [ ] Review [the PR description guidelines](https://github.com/UofT-DSI/onboarding/blob/main/onboarding_documents/submissions.md#guidelines-for-pull-request-descriptions) and adhere to them.\n",
    "- [ ] Verify that the link is accessible in a private browser window.\n",
    "\n",
    "If you encounter any difficulties or have questions, please don't hesitate to reach out to our team via our Slack at `#cohort-3-help`. Our Technical Facilitators and Learning Support staff are here to help you navigate any challenges."
   ]
  }
 ],
 "metadata": {
  "kernelspec": {
   "display_name": "dsi_participant",
   "language": "python",
   "name": "python3"
  },
  "language_info": {
   "codemirror_mode": {
    "name": "ipython",
    "version": 3
   },
   "file_extension": ".py",
   "mimetype": "text/x-python",
   "name": "python",
   "nbconvert_exporter": "python",
   "pygments_lexer": "ipython3",
   "version": "3.9.7"
  }
 },
 "nbformat": 4,
 "nbformat_minor": 2
}
