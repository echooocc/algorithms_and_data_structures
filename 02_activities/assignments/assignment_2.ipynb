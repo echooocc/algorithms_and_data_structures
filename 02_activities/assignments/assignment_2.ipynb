{
 "cells": [
  {
   "cell_type": "markdown",
   "metadata": {},
   "source": [
    "# Practice Interview\n",
    "\n",
    "## Objective\n",
    "\n",
    "_*The partner assignment aims to provide participants with the opportunity to practice coding in an interview context. You will analyze your partner's Assignment 1. Moreover, code reviews are common practice in a software development team. This assignment should give you a taste of the code review process.*_\n",
    "\n",
    "## Group Size\n",
    "\n",
    "Each group should have 2 people. You will be assigned a partner\n",
    "\n",
    "## Part 1:\n",
    "\n",
    "You and your partner must share each other's Assignment 1 submission."
   ]
  },
  {
   "cell_type": "markdown",
   "metadata": {},
   "source": [
    "\n",
    "## Part 2:\n",
    "\n",
    "Create a Jupyter Notebook, create 6 of the following headings, and complete the following for your partner's assignment 1:\n",
    "\n",
    "-   Paraphrase the problem in your own words.\n"
   ]
  },
  {
   "cell_type": "markdown",
   "metadata": {},
   "source": [
    "given an input list with integers, n is the length of the input list. cross check [0, n] with input list, find which numbers between 0 and n are missing from input list.\n",
    "if no number missing, return -1, if numebrs are missing, return the missing numbers as array"
   ]
  },
  {
   "cell_type": "markdown",
   "metadata": {},
   "source": [
    "\n",
    "-   Create 1 new example that demonstrates you understand the problem. Trace/walkthrough 1 example that your partner made and explain it.\n"
   ]
  },
  {
   "cell_type": "markdown",
   "metadata": {},
   "source": [
    "example1_list = [1, 5, 3, 6]\n",
    "\n",
    "1. n is 4, need to if any of numbers [0, 1, 2, 3, 4] missing from [1, 5, 3, 6]\n",
    "2. we sort the example1_list to [1, 3, 5, 6]\n",
    "3. iterate through the sorted range and check if each number is present in the example1_list\n",
    "4. start with 0 from [0, 1, 2, 3, 4] and 1 from [1, 3, 5, 6]\n",
    "5. not match, push 0 to result, and move to next 1 from [0, 1, 2, 3, 4], check again 1\n",
    "6. match, both move to next 2 from [0, 1, 2, 3, 4], and 3 from [1, 3, 5, 6]\n",
    "7. keep looping until iterating all numbers fom sorted range \n"
   ]
  },
  {
   "cell_type": "markdown",
   "metadata": {},
   "source": [
    "\n",
    "-   Copy the solution your partner wrote. \n"
   ]
  },
  {
   "cell_type": "code",
   "execution_count": null,
   "metadata": {},
   "outputs": [],
   "source": [
    "def missing_num(nums: list) -> int:\n",
    "  # TODO\n",
    "  missing_num=[]\n",
    "  num_set = set(nums)\n",
    "  for i in range(max(num_set)):\n",
    "    if i not in num_set: \n",
    "      missing_num.append(i)\n",
    "  if missing_num:\n",
    "    return missing_num\n",
    "  else:\n",
    "    return -1\n",
    "\n",
    "example1_list = [1, 5, 3, 6]\n",
    "example2_list = [3, 5, 1, 2, 4, 0]\n",
    "print(missing_num(example1_list))\n",
    "print(missing_num(example2_list))"
   ]
  },
  {
   "cell_type": "markdown",
   "metadata": {},
   "source": [
    "\n",
    "-   Explain why their solution works in your own words.\n"
   ]
  },
  {
   "cell_type": "markdown",
   "metadata": {},
   "source": [
    "- converting the list to a set removes any duplicate values, ensuring that each number is checked only once.\n",
    "- iterate through the range [0, n] to check for missing numbers efficiently.\n",
    "- if a number is not found in the set, it is added to the list of missing numbers."
   ]
  },
  {
   "cell_type": "markdown",
   "metadata": {},
   "source": [
    "\n",
    "-   Explain the problem’s time and space complexity in your own words.\n"
   ]
  },
  {
   "cell_type": "markdown",
   "metadata": {},
   "source": [
    "- Time Complexity: O(n) (for converting the list to a set) + O(n) (for iterating through the range) = O(2n) -> O(n) \n",
    "- Space Complexity: O(n) (for storing the set)"
   ]
  },
  {
   "cell_type": "markdown",
   "metadata": {},
   "source": [
    "\n",
    "-   Critique your partner's solution, including explanation, and if there is anything that should be adjusted.\n"
   ]
  },
  {
   "cell_type": "markdown",
   "metadata": {},
   "source": [
    "current solution is already efficient with a time complexity of O(n) and space complexity of O(n). if memory usage is a concern, we can optimize by using an array instead of a set to keep track of which numbers are present. this would reduce the space complexity to O(1) (assuming the range [0, n] is fixed)."
   ]
  },
  {
   "cell_type": "markdown",
   "metadata": {},
   "source": [
    "\n",
    "## Part 3:\n",
    "\n",
    "Please write a 200 word reflection documenting your process from assignment 1, and your presentation and review experience with your partner at the bottom of the Jupyter Notebook under a new heading \"Reflection.\" Again, export this Notebook as pdf.\n"
   ]
  },
  {
   "cell_type": "markdown",
   "metadata": {},
   "source": [
    "### Reflection"
   ]
  },
  {
   "cell_type": "markdown",
   "metadata": {
    "vscode": {
     "languageId": "bat"
    }
   },
   "source": [
    "For Assignment 1, I approached the problems by working through an example step by step and sketching diagrams on paper to visualize the solution. The tree-based questions were particularly challenging, but drawing out the structures helped significantly in understanding them.\n",
    "\n",
    "Reviewing each other’s code was a valuable learning experience, allowing us to identify strengths and weaknesses in different approaches. This collaborative process fostered a deeper understanding of problem-solving strategies, regardless of solution efficiency, and exposed me to diverse perspectives.\n",
    "\n",
    "Overall, the assignment effectively simulated real-world code review scenarios, reinforcing both technical and analytical skills."
   ]
  },
  {
   "cell_type": "markdown",
   "metadata": {},
   "source": [
    "\n",
    "## Evaluation Criteria\n",
    "\n",
    "We are looking for the similar points as Assignment 1\n",
    "\n",
    "-   Problem is accurately stated\n",
    "\n",
    "-   New example is correct and easily understandable\n",
    "\n",
    "-   Correctness, time, and space complexity of the coding solution\n",
    "\n",
    "-   Clarity in explaining why the solution works, its time and space complexity\n",
    "\n",
    "-   Quality of critique of your partner's assignment, if necessary\n"
   ]
  },
  {
   "cell_type": "markdown",
   "metadata": {},
   "source": [
    "## Submission Information\n",
    "\n",
    "🚨 **Please review our [Assignment Submission Guide](https://github.com/UofT-DSI/onboarding/blob/main/onboarding_documents/submissions.md)** 🚨 for detailed instructions on how to format, branch, and submit your work. Following these guidelines is crucial for your submissions to be evaluated correctly.\n",
    "\n",
    "### Submission Parameters:\n",
    "* Submission Due Date: `HH:MM AM/PM - DD/MM/YYYY`\n",
    "* The branch name for your repo should be: `assignment-2`\n",
    "* What to submit for this assignment:\n",
    "    * This Jupyter Notebook (assignment_2.ipynb) should be populated and should be the only change in your pull request.\n",
    "* What the pull request link should look like for this assignment: `https://github.com/<your_github_username>/algorithms_and_data_structures/pull/<pr_id>`\n",
    "    * Open a private window in your browser. Copy and paste the link to your pull request into the address bar. Make sure you can see your pull request properly. This helps the technical facilitator and learning support staff review your submission easily.\n",
    "\n",
    "Checklist:\n",
    "- [ ] Created a branch with the correct naming convention.\n",
    "- [ ] Ensured that the repository is public.\n",
    "- [ ] Reviewed the PR description guidelines and adhered to them.\n",
    "- [ ] Verify that the link is accessible in a private browser window.\n",
    "\n",
    "If you encounter any difficulties or have questions, please don't hesitate to reach out to our team via our Slack at `#cohort-3-help`. Our Technical Facilitators and Learning Support staff are here to help you navigate any challenges.\n"
   ]
  }
 ],
 "metadata": {
  "language_info": {
   "name": "python"
  }
 },
 "nbformat": 4,
 "nbformat_minor": 2
}
